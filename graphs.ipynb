{
 "cells": [
  {
   "cell_type": "code",
   "execution_count": null,
   "metadata": {},
   "outputs": [],
   "source": [
    "import matplotlib.pyplot as plt\n",
    "import numpy as np\n",
    "from datetime import timedelta\n",
    "\n",
    "def convert_timecode_to_timedelta(timecode):\n",
    "    hours, minutes, seconds, frames = map(int, timecode.split(':'))\n",
    "    total_seconds = hours * 3600 + minutes * 60 + seconds + frames / 24.0\n",
    "    return timedelta(seconds=total_seconds)\n",
    "\n",
    "def timedelta_to_timecode(td):\n",
    "    total_seconds = int(td.total_seconds())\n",
    "    frames = int((td.total_seconds() - total_seconds) * 24)  # Assuming 24 fps\n",
    "    hours, remainder = divmod(total_seconds, 3600)\n",
    "    minutes, seconds = divmod(remainder, 60)\n",
    "    return f\"{hours:02}:{minutes:02}:{seconds:02}:{frames:02}\"\n",
    "\n",
    "# Convert 'Start Time' and 'End Time' to timedelta for plotting\n",
    "data['Start Time Delta'] = data['Start Time'].apply(convert_timecode_to_timedelta)\n",
    "data['End Time Delta'] = data['End Time'].apply(convert_timecode_to_timedelta)\n",
    "\n",
    "# Create the plot with unique colors and formatted x-axis\n",
    "fig, ax = plt.subplots(figsize=(12, 10))\n",
    "colors = plt.cm.get_cmap('tab20', data.shape[0])\n",
    "for i, row in data.iterrows():\n",
    "    width = (row['End Time Delta'] - row['Start Time Delta']).total_seconds()\n",
    "    ax.barh(row['Structure 1'], width, left=row['Start Time Delta'].total_seconds(), color=colors(i), edgecolor='black')\n",
    "ticks = ax.get_xticks()\n",
    "ax.set_xticklabels([timedelta_to_timecode(timedelta(seconds=t)) for t in ticks])\n",
    "ax.set_xlabel('Time (HH:MM:SS:FF)')\n",
    "ax.set_title('Gantt Chart of Structure 1 Categories')\n",
    "plt.gca().invert_yaxis()\n",
    "ax.yaxis.set_visible(False)\n",
    "plt.show()\n",
    "\n",
    "# Saving the figure as SVG\n",
    "fig.savefig('/mnt/data/Gantt_Chart.svg')\n"
   ]
  }
 ],
 "metadata": {
  "language_info": {
   "name": "python"
  }
 },
 "nbformat": 4,
 "nbformat_minor": 2
}
